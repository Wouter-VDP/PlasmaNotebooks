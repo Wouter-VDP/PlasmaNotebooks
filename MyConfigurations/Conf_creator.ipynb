{
 "cells": [
  {
   "cell_type": "code",
   "execution_count": 9,
   "metadata": {},
   "outputs": [],
   "source": [
    "import yaml\n",
    "import fileinput\n",
    "from shutil import copyfile"
   ]
  },
  {
   "cell_type": "code",
   "execution_count": 10,
   "metadata": {},
   "outputs": [],
   "source": [
    "fname = '/home/wvdp/PPPLDeepLearning/slurm/MyConfigurations/conf_default.yaml'\n",
    "fname_out_basis = '/home/wvdp/PPPLDeepLearning/slurm/MyConfigurations/'\n",
    "\n",
    "slurm_default = '/home/wvdp/PPPLDeepLearning/slurm/MySlurms/slurm.cmd'\n",
    "slurm_out_basis = '/home/wvdp/PPPLDeepLearning/slurm/MySlurms/'"
   ]
  },
  {
   "cell_type": "code",
   "execution_count": 11,
   "metadata": {},
   "outputs": [],
   "source": [
    "with open(fname) as f:\n",
    "    default = yaml.load_all(f, Loader=yaml.FullLoader)\n",
    "    for configuration in default:\n",
    "        all_signals = configuration['paths']['specific_signals']\n",
    "        for i in range(len(all_signals)):\n",
    "            mod_signals = all_signals.copy()\n",
    "            mod_signals.pop(i)\n",
    "            this_conf = configuration.copy()\n",
    "            this_conf['paths']['specific_signals'] = mod_signals\n",
    "            \n",
    "            fname_out = fname_out_basis+'conf_wo_'+all_signals[i]+'.yaml'\n",
    "            with open(fname_out, 'w') as f:\n",
    "                yaml.dump(this_conf, f)\n",
    "            \n",
    "            dst = slurm_out_basis+'slurm_wo_'+all_signals[i]+'.cmd'\n",
    "            copyfile(slurm_default, dst)\n",
    "            for line in fileinput.FileInput(dst, inplace=1):\n",
    "                if 'conf_default' in line:\n",
    "                    line = line.replace('conf_default','conf_wo_'+all_signals[i])\n",
    "                    print(line, end='')\n",
    "                else:\n",
    "                    print(line, end='')"
   ]
  },
  {
   "cell_type": "code",
   "execution_count": 12,
   "metadata": {},
   "outputs": [
    {
     "name": "stdout",
     "output_type": "stream",
     "text": [
      "/home/wvdp/PPPLDeepLearning/slurm/MyConfigurations/conf_wo_energydt.yaml\n",
      "['q95', 'li', 'ip', 'energy', 'lm', 'dens', 'pradcore', 'pradedge', 'pradtot', 'pin']\n"
     ]
    }
   ],
   "source": [
    "# Test if this works\n",
    "print(fname_out)\n",
    "with open(fname_out) as f:\n",
    "    modified = yaml.load_all(f, Loader=yaml.FullLoader)\n",
    "    for configuration in modified:\n",
    "        print(configuration['paths']['specific_signals'])"
   ]
  }
 ],
 "metadata": {
  "kernelspec": {
   "display_name": "Python 3",
   "language": "python",
   "name": "python3"
  },
  "language_info": {
   "codemirror_mode": {
    "name": "ipython",
    "version": 3
   },
   "file_extension": ".py",
   "mimetype": "text/x-python",
   "name": "python",
   "nbconvert_exporter": "python",
   "pygments_lexer": "ipython3",
   "version": "3.6.9"
  }
 },
 "nbformat": 4,
 "nbformat_minor": 2
}
