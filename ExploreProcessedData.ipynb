{
 "cells": [
  {
   "cell_type": "markdown",
   "metadata": {},
   "source": [
    "## Processed Shots Data Exploration\n",
    "Notebook to plot the data in the processed shots, located on tigress"
   ]
  },
  {
   "cell_type": "markdown",
   "metadata": {},
   "source": [
    "### Imports and definitions"
   ]
  },
  {
   "cell_type": "code",
   "execution_count": 1,
   "metadata": {},
   "outputs": [],
   "source": [
    "import numpy as np\n",
    "import pandas as pd\n",
    "from pprint import pprint\n",
    "import matplotlib.pyplot as plt\n",
    "import glob\n",
    "from IPython.display import clear_output"
   ]
  },
  {
   "cell_type": "code",
   "execution_count": 2,
   "metadata": {},
   "outputs": [],
   "source": [
    "import plasma"
   ]
  },
  {
   "cell_type": "code",
   "execution_count": 3,
   "metadata": {},
   "outputs": [],
   "source": [
    "indir = '/tigress/wvdp/'\n",
    "outdir = './Output/Shots/'"
   ]
  },
  {
   "cell_type": "markdown",
   "metadata": {},
   "source": [
    "### Shotlist"
   ]
  },
  {
   "cell_type": "code",
   "execution_count": 4,
   "metadata": {},
   "outputs": [],
   "source": [
    "file_name = 'processed_shotlists/jet_data/shot_lists_signal_group_3236450206765786377241194018831785328.npz'\n",
    "shotlist_file = np.load(indir+file_name, allow_pickle=True)"
   ]
  },
  {
   "cell_type": "code",
   "execution_count": 5,
   "metadata": {},
   "outputs": [
    {
     "data": {
      "text/plain": [
       "['shot_list_train', 'shot_list_validate', 'shot_list_test']"
      ]
     },
     "execution_count": 5,
     "metadata": {},
     "output_type": "execute_result"
    }
   ],
   "source": [
    "shotlist_file.files"
   ]
  },
  {
   "cell_type": "code",
   "execution_count": 6,
   "metadata": {},
   "outputs": [
    {
     "name": "stdout",
     "output_type": "stream",
     "text": [
      "all signals (determines which signals are downloaded and preprocessed):\n",
      "dict_values([q95 safety factor, internal inductance, plasma current, Normalized Beta, stored energy, Locked mode amplitude, Plasma density, Radiated Power Core, Radiated Power Edge, Radiated Power, Input Power (beam for d3d), Input Beam Torque, stored energy time derivative, plasma current direction, plasma current target, plasma current error, Electron temperature profile, Electron density profile])\n"
     ]
    }
   ],
   "source": [
    "shotlist_val = shotlist_file.f.shot_list_validate"
   ]
  },
  {
   "cell_type": "code",
   "execution_count": 7,
   "metadata": {},
   "outputs": [],
   "source": [
    "shot = shotlist_val[0]"
   ]
  },
  {
   "cell_type": "code",
   "execution_count": 8,
   "metadata": {},
   "outputs": [
    {
     "name": "stdout",
     "output_type": "stream",
     "text": [
      "{'augmentation_fn': None,\n",
      " 'is_disruptive': False,\n",
      " 'machine': jet,\n",
      " 'number': 75465,\n",
      " 'signals': [q95 safety factor,\n",
      "             internal inductance,\n",
      "             plasma current,\n",
      "             stored energy,\n",
      "             Locked mode amplitude,\n",
      "             Plasma density,\n",
      "             Radiated Power Core,\n",
      "             Radiated Power Edge,\n",
      "             Radiated Power,\n",
      "             Input Power (beam for d3d),\n",
      "             stored energy time derivative],\n",
      " 'signals_dict': None,\n",
      " 't_disrupt': -1.0,\n",
      " 'ttd': None,\n",
      " 'valid': True,\n",
      " 'weight': 1.0}\n"
     ]
    }
   ],
   "source": [
    "pprint(shot.__dict__)"
   ]
  },
  {
   "cell_type": "markdown",
   "metadata": {},
   "source": [
    "### Machines"
   ]
  },
  {
   "cell_type": "code",
   "execution_count": 9,
   "metadata": {},
   "outputs": [],
   "source": [
    "jet = shot.signals[0].machines[0]\n",
    "d3d = shot.signals[0].machines[1]"
   ]
  },
  {
   "cell_type": "code",
   "execution_count": 10,
   "metadata": {},
   "outputs": [
    {
     "data": {
      "text/plain": [
       "{'name': 'jet',\n",
       " 'server': 'mdsplus.jet.efda.org',\n",
       " 'max_cores': 8,\n",
       " 'fetch_data_fn': <function data.signals.fetch_jet_data(signal_path, shot_num, c)>,\n",
       " 'current_threshold': 100000.0}"
      ]
     },
     "execution_count": 10,
     "metadata": {},
     "output_type": "execute_result"
    }
   ],
   "source": [
    "shot.machine.__dict__"
   ]
  },
  {
   "cell_type": "code",
   "execution_count": 11,
   "metadata": {},
   "outputs": [
    {
     "data": {
      "text/plain": [
       "{'name': 'd3d',\n",
       " 'server': 'atlas.gat.com',\n",
       " 'max_cores': 32,\n",
       " 'fetch_data_fn': <function data.signals.fetch_d3d_data(signal_path, shot, c=None)>,\n",
       " 'current_threshold': 0.2}"
      ]
     },
     "execution_count": 11,
     "metadata": {},
     "output_type": "execute_result"
    }
   ],
   "source": [
    "d3d.__dict__"
   ]
  },
  {
   "cell_type": "markdown",
   "metadata": {},
   "source": [
    "### Signals"
   ]
  },
  {
   "cell_type": "code",
   "execution_count": 12,
   "metadata": {
    "scrolled": false
   },
   "outputs": [],
   "source": [
    "df_jet_signals = []\n",
    "df_d3d_signals = []\n",
    "\n",
    "for sig in shot.signals:\n",
    "    df = pd.DataFrame(sig.__dict__)\n",
    "    row_jet = df.query('machines==@jet')\n",
    "    row_d3d = df.query('machines==@d3d')\n",
    "    if len(row_jet)==1:\n",
    "        df_jet_signals.append(row_jet)\n",
    "    if len(row_d3d)==1:\n",
    "        df_d3d_signals.append(row_d3d)"
   ]
  },
  {
   "cell_type": "code",
   "execution_count": 13,
   "metadata": {},
   "outputs": [
    {
     "data": {
      "text/html": [
       "<div>\n",
       "<style scoped>\n",
       "    .dataframe tbody tr th:only-of-type {\n",
       "        vertical-align: middle;\n",
       "    }\n",
       "\n",
       "    .dataframe tbody tr th {\n",
       "        vertical-align: top;\n",
       "    }\n",
       "\n",
       "    .dataframe thead th {\n",
       "        text-align: right;\n",
       "    }\n",
       "</style>\n",
       "<table border=\"1\" class=\"dataframe\">\n",
       "  <thead>\n",
       "    <tr style=\"text-align: right;\">\n",
       "      <th></th>\n",
       "      <th>description</th>\n",
       "      <th>paths</th>\n",
       "      <th>machines</th>\n",
       "      <th>causal_shifts</th>\n",
       "      <th>is_ip</th>\n",
       "      <th>num_channels</th>\n",
       "      <th>normalize</th>\n",
       "      <th>data_avail_tolerances</th>\n",
       "      <th>is_strictly_positive</th>\n",
       "      <th>mapping_paths</th>\n",
       "      <th>channel_nums</th>\n",
       "    </tr>\n",
       "  </thead>\n",
       "  <tbody>\n",
       "    <tr>\n",
       "      <th>0</th>\n",
       "      <td>q95 safety factor</td>\n",
       "      <td>ppf/efit/q95</td>\n",
       "      <td>jet</td>\n",
       "      <td>15</td>\n",
       "      <td>False</td>\n",
       "      <td>1</td>\n",
       "      <td>False</td>\n",
       "      <td>0.03</td>\n",
       "      <td>False</td>\n",
       "      <td>None</td>\n",
       "      <td>NaN</td>\n",
       "    </tr>\n",
       "    <tr>\n",
       "      <th>1</th>\n",
       "      <td>internal inductance</td>\n",
       "      <td>jpf/gs/bl-li&lt;s</td>\n",
       "      <td>jet</td>\n",
       "      <td>0</td>\n",
       "      <td>False</td>\n",
       "      <td>1</td>\n",
       "      <td>True</td>\n",
       "      <td>0.00</td>\n",
       "      <td>False</td>\n",
       "      <td>None</td>\n",
       "      <td>NaN</td>\n",
       "    </tr>\n",
       "    <tr>\n",
       "      <th>2</th>\n",
       "      <td>plasma current</td>\n",
       "      <td>jpf/da/c2-ipla</td>\n",
       "      <td>jet</td>\n",
       "      <td>0</td>\n",
       "      <td>True</td>\n",
       "      <td>1</td>\n",
       "      <td>True</td>\n",
       "      <td>0.00</td>\n",
       "      <td>False</td>\n",
       "      <td>None</td>\n",
       "      <td>NaN</td>\n",
       "    </tr>\n",
       "    <tr>\n",
       "      <th>3</th>\n",
       "      <td>stored energy</td>\n",
       "      <td>jpf/gs/bl-wmhd&lt;s</td>\n",
       "      <td>jet</td>\n",
       "      <td>0</td>\n",
       "      <td>False</td>\n",
       "      <td>1</td>\n",
       "      <td>True</td>\n",
       "      <td>0.00</td>\n",
       "      <td>False</td>\n",
       "      <td>None</td>\n",
       "      <td>NaN</td>\n",
       "    </tr>\n",
       "    <tr>\n",
       "      <th>4</th>\n",
       "      <td>Locked mode amplitude</td>\n",
       "      <td>jpf/da/c2-loca</td>\n",
       "      <td>jet</td>\n",
       "      <td>0</td>\n",
       "      <td>False</td>\n",
       "      <td>1</td>\n",
       "      <td>True</td>\n",
       "      <td>0.00</td>\n",
       "      <td>False</td>\n",
       "      <td>None</td>\n",
       "      <td>NaN</td>\n",
       "    </tr>\n",
       "    <tr>\n",
       "      <th>5</th>\n",
       "      <td>Plasma density</td>\n",
       "      <td>jpf/df/g1r-lid:003</td>\n",
       "      <td>jet</td>\n",
       "      <td>0</td>\n",
       "      <td>False</td>\n",
       "      <td>1</td>\n",
       "      <td>True</td>\n",
       "      <td>0.00</td>\n",
       "      <td>True</td>\n",
       "      <td>None</td>\n",
       "      <td>NaN</td>\n",
       "    </tr>\n",
       "    <tr>\n",
       "      <th>6</th>\n",
       "      <td>Radiated Power Core</td>\n",
       "      <td>ppf/bolo/kb5h</td>\n",
       "      <td>jet</td>\n",
       "      <td>0</td>\n",
       "      <td>False</td>\n",
       "      <td>1</td>\n",
       "      <td>True</td>\n",
       "      <td>0.00</td>\n",
       "      <td>False</td>\n",
       "      <td>None</td>\n",
       "      <td>14.0</td>\n",
       "    </tr>\n",
       "    <tr>\n",
       "      <th>7</th>\n",
       "      <td>Radiated Power Edge</td>\n",
       "      <td>ppf/bolo/kb5h</td>\n",
       "      <td>jet</td>\n",
       "      <td>0</td>\n",
       "      <td>False</td>\n",
       "      <td>1</td>\n",
       "      <td>True</td>\n",
       "      <td>0.00</td>\n",
       "      <td>False</td>\n",
       "      <td>None</td>\n",
       "      <td>10.0</td>\n",
       "    </tr>\n",
       "    <tr>\n",
       "      <th>8</th>\n",
       "      <td>Radiated Power</td>\n",
       "      <td>jpf/db/b5r-ptot&gt;out</td>\n",
       "      <td>jet</td>\n",
       "      <td>0</td>\n",
       "      <td>False</td>\n",
       "      <td>1</td>\n",
       "      <td>True</td>\n",
       "      <td>0.00</td>\n",
       "      <td>False</td>\n",
       "      <td>None</td>\n",
       "      <td>NaN</td>\n",
       "    </tr>\n",
       "    <tr>\n",
       "      <th>9</th>\n",
       "      <td>Input Power (beam for d3d)</td>\n",
       "      <td>jpf/gs/bl-ptot&lt;s</td>\n",
       "      <td>jet</td>\n",
       "      <td>0</td>\n",
       "      <td>False</td>\n",
       "      <td>1</td>\n",
       "      <td>True</td>\n",
       "      <td>0.00</td>\n",
       "      <td>False</td>\n",
       "      <td>None</td>\n",
       "      <td>NaN</td>\n",
       "    </tr>\n",
       "    <tr>\n",
       "      <th>10</th>\n",
       "      <td>stored energy time derivative</td>\n",
       "      <td>jpf/gs/bl-fdwdt&lt;s</td>\n",
       "      <td>jet</td>\n",
       "      <td>0</td>\n",
       "      <td>False</td>\n",
       "      <td>1</td>\n",
       "      <td>True</td>\n",
       "      <td>0.00</td>\n",
       "      <td>False</td>\n",
       "      <td>None</td>\n",
       "      <td>NaN</td>\n",
       "    </tr>\n",
       "  </tbody>\n",
       "</table>\n",
       "</div>"
      ],
      "text/plain": [
       "                      description                paths machines  \\\n",
       "0               q95 safety factor         ppf/efit/q95      jet   \n",
       "1             internal inductance       jpf/gs/bl-li<s      jet   \n",
       "2                  plasma current       jpf/da/c2-ipla      jet   \n",
       "3                   stored energy     jpf/gs/bl-wmhd<s      jet   \n",
       "4           Locked mode amplitude       jpf/da/c2-loca      jet   \n",
       "5                  Plasma density   jpf/df/g1r-lid:003      jet   \n",
       "6             Radiated Power Core        ppf/bolo/kb5h      jet   \n",
       "7             Radiated Power Edge        ppf/bolo/kb5h      jet   \n",
       "8                  Radiated Power  jpf/db/b5r-ptot>out      jet   \n",
       "9      Input Power (beam for d3d)     jpf/gs/bl-ptot<s      jet   \n",
       "10  stored energy time derivative    jpf/gs/bl-fdwdt<s      jet   \n",
       "\n",
       "    causal_shifts  is_ip  num_channels  normalize  data_avail_tolerances  \\\n",
       "0              15  False             1      False                   0.03   \n",
       "1               0  False             1       True                   0.00   \n",
       "2               0   True             1       True                   0.00   \n",
       "3               0  False             1       True                   0.00   \n",
       "4               0  False             1       True                   0.00   \n",
       "5               0  False             1       True                   0.00   \n",
       "6               0  False             1       True                   0.00   \n",
       "7               0  False             1       True                   0.00   \n",
       "8               0  False             1       True                   0.00   \n",
       "9               0  False             1       True                   0.00   \n",
       "10              0  False             1       True                   0.00   \n",
       "\n",
       "    is_strictly_positive mapping_paths  channel_nums  \n",
       "0                  False          None           NaN  \n",
       "1                  False          None           NaN  \n",
       "2                  False          None           NaN  \n",
       "3                  False          None           NaN  \n",
       "4                  False          None           NaN  \n",
       "5                   True          None           NaN  \n",
       "6                  False          None          14.0  \n",
       "7                  False          None          10.0  \n",
       "8                  False          None           NaN  \n",
       "9                  False          None           NaN  \n",
       "10                 False          None           NaN  "
      ]
     },
     "execution_count": 13,
     "metadata": {},
     "output_type": "execute_result"
    }
   ],
   "source": [
    "df_jet_signals = pd.concat(df_jet_signals, sort=False, ignore_index=True,copy=False)\n",
    "df_jet_signals"
   ]
  },
  {
   "cell_type": "code",
   "execution_count": 14,
   "metadata": {},
   "outputs": [
    {
     "data": {
      "text/html": [
       "<div>\n",
       "<style scoped>\n",
       "    .dataframe tbody tr th:only-of-type {\n",
       "        vertical-align: middle;\n",
       "    }\n",
       "\n",
       "    .dataframe tbody tr th {\n",
       "        vertical-align: top;\n",
       "    }\n",
       "\n",
       "    .dataframe thead th {\n",
       "        text-align: right;\n",
       "    }\n",
       "</style>\n",
       "<table border=\"1\" class=\"dataframe\">\n",
       "  <thead>\n",
       "    <tr style=\"text-align: right;\">\n",
       "      <th></th>\n",
       "      <th>description</th>\n",
       "      <th>paths</th>\n",
       "      <th>machines</th>\n",
       "      <th>causal_shifts</th>\n",
       "      <th>is_ip</th>\n",
       "      <th>num_channels</th>\n",
       "      <th>normalize</th>\n",
       "      <th>data_avail_tolerances</th>\n",
       "      <th>is_strictly_positive</th>\n",
       "      <th>mapping_paths</th>\n",
       "      <th>channel_nums</th>\n",
       "    </tr>\n",
       "  </thead>\n",
       "  <tbody>\n",
       "    <tr>\n",
       "      <th>0</th>\n",
       "      <td>q95 safety factor</td>\n",
       "      <td>EFIT01/RESULTS.AEQDSK.Q95</td>\n",
       "      <td>d3d</td>\n",
       "      <td>10</td>\n",
       "      <td>False</td>\n",
       "      <td>1</td>\n",
       "      <td>False</td>\n",
       "      <td>0.02</td>\n",
       "      <td>False</td>\n",
       "      <td>None</td>\n",
       "      <td>NaN</td>\n",
       "    </tr>\n",
       "    <tr>\n",
       "      <th>1</th>\n",
       "      <td>internal inductance</td>\n",
       "      <td>d3d/efsli</td>\n",
       "      <td>d3d</td>\n",
       "      <td>0</td>\n",
       "      <td>False</td>\n",
       "      <td>1</td>\n",
       "      <td>True</td>\n",
       "      <td>0.00</td>\n",
       "      <td>False</td>\n",
       "      <td>None</td>\n",
       "      <td>NaN</td>\n",
       "    </tr>\n",
       "    <tr>\n",
       "      <th>2</th>\n",
       "      <td>plasma current</td>\n",
       "      <td>d3d/ipspr15V</td>\n",
       "      <td>d3d</td>\n",
       "      <td>0</td>\n",
       "      <td>True</td>\n",
       "      <td>1</td>\n",
       "      <td>True</td>\n",
       "      <td>0.00</td>\n",
       "      <td>False</td>\n",
       "      <td>None</td>\n",
       "      <td>NaN</td>\n",
       "    </tr>\n",
       "    <tr>\n",
       "      <th>3</th>\n",
       "      <td>stored energy</td>\n",
       "      <td>d3d/efswmhd</td>\n",
       "      <td>d3d</td>\n",
       "      <td>0</td>\n",
       "      <td>False</td>\n",
       "      <td>1</td>\n",
       "      <td>True</td>\n",
       "      <td>0.00</td>\n",
       "      <td>False</td>\n",
       "      <td>None</td>\n",
       "      <td>NaN</td>\n",
       "    </tr>\n",
       "    <tr>\n",
       "      <th>4</th>\n",
       "      <td>Locked mode amplitude</td>\n",
       "      <td>d3d/dusbradial</td>\n",
       "      <td>d3d</td>\n",
       "      <td>0</td>\n",
       "      <td>False</td>\n",
       "      <td>1</td>\n",
       "      <td>True</td>\n",
       "      <td>0.00</td>\n",
       "      <td>False</td>\n",
       "      <td>None</td>\n",
       "      <td>NaN</td>\n",
       "    </tr>\n",
       "    <tr>\n",
       "      <th>5</th>\n",
       "      <td>Plasma density</td>\n",
       "      <td>d3d/dssdenest</td>\n",
       "      <td>d3d</td>\n",
       "      <td>0</td>\n",
       "      <td>False</td>\n",
       "      <td>1</td>\n",
       "      <td>True</td>\n",
       "      <td>0.00</td>\n",
       "      <td>True</td>\n",
       "      <td>None</td>\n",
       "      <td>NaN</td>\n",
       "    </tr>\n",
       "    <tr>\n",
       "      <th>6</th>\n",
       "      <td>Radiated Power Core</td>\n",
       "      <td>d3d/\\bol_l15_p</td>\n",
       "      <td>d3d</td>\n",
       "      <td>0</td>\n",
       "      <td>False</td>\n",
       "      <td>1</td>\n",
       "      <td>True</td>\n",
       "      <td>0.00</td>\n",
       "      <td>False</td>\n",
       "      <td>None</td>\n",
       "      <td>NaN</td>\n",
       "    </tr>\n",
       "    <tr>\n",
       "      <th>7</th>\n",
       "      <td>Radiated Power Edge</td>\n",
       "      <td>d3d/\\bol_l03_p</td>\n",
       "      <td>d3d</td>\n",
       "      <td>0</td>\n",
       "      <td>False</td>\n",
       "      <td>1</td>\n",
       "      <td>True</td>\n",
       "      <td>0.00</td>\n",
       "      <td>False</td>\n",
       "      <td>None</td>\n",
       "      <td>NaN</td>\n",
       "    </tr>\n",
       "    <tr>\n",
       "      <th>8</th>\n",
       "      <td>Input Power (beam for d3d)</td>\n",
       "      <td>d3d/bmspinj</td>\n",
       "      <td>d3d</td>\n",
       "      <td>0</td>\n",
       "      <td>False</td>\n",
       "      <td>1</td>\n",
       "      <td>True</td>\n",
       "      <td>0.00</td>\n",
       "      <td>False</td>\n",
       "      <td>None</td>\n",
       "      <td>NaN</td>\n",
       "    </tr>\n",
       "  </tbody>\n",
       "</table>\n",
       "</div>"
      ],
      "text/plain": [
       "                  description                      paths machines  \\\n",
       "0           q95 safety factor  EFIT01/RESULTS.AEQDSK.Q95      d3d   \n",
       "1         internal inductance                  d3d/efsli      d3d   \n",
       "2              plasma current               d3d/ipspr15V      d3d   \n",
       "3               stored energy                d3d/efswmhd      d3d   \n",
       "4       Locked mode amplitude             d3d/dusbradial      d3d   \n",
       "5              Plasma density              d3d/dssdenest      d3d   \n",
       "6         Radiated Power Core             d3d/\\bol_l15_p      d3d   \n",
       "7         Radiated Power Edge             d3d/\\bol_l03_p      d3d   \n",
       "8  Input Power (beam for d3d)                d3d/bmspinj      d3d   \n",
       "\n",
       "   causal_shifts  is_ip  num_channels  normalize  data_avail_tolerances  \\\n",
       "0             10  False             1      False                   0.02   \n",
       "1              0  False             1       True                   0.00   \n",
       "2              0   True             1       True                   0.00   \n",
       "3              0  False             1       True                   0.00   \n",
       "4              0  False             1       True                   0.00   \n",
       "5              0  False             1       True                   0.00   \n",
       "6              0  False             1       True                   0.00   \n",
       "7              0  False             1       True                   0.00   \n",
       "8              0  False             1       True                   0.00   \n",
       "\n",
       "   is_strictly_positive mapping_paths  channel_nums  \n",
       "0                 False          None           NaN  \n",
       "1                 False          None           NaN  \n",
       "2                 False          None           NaN  \n",
       "3                 False          None           NaN  \n",
       "4                 False          None           NaN  \n",
       "5                  True          None           NaN  \n",
       "6                 False          None           NaN  \n",
       "7                 False          None           NaN  \n",
       "8                 False          None           NaN  "
      ]
     },
     "execution_count": 14,
     "metadata": {},
     "output_type": "execute_result"
    }
   ],
   "source": [
    "df_d3d_signals = pd.concat(df_d3d_signals, sort=False, ignore_index=True,copy=False)\n",
    "df_d3d_signals"
   ]
  },
  {
   "cell_type": "markdown",
   "metadata": {},
   "source": [
    "### Shots"
   ]
  },
  {
   "cell_type": "code",
   "execution_count": 15,
   "metadata": {},
   "outputs": [],
   "source": [
    "shots_dir = indir+'processed_shots/signal_group_3236450206765786377241194018831785328/'\n",
    "all_files = glob.glob(shots_dir+'*.npz')"
   ]
  },
  {
   "cell_type": "markdown",
   "metadata": {},
   "source": [
    "Create a list of n disruptive and n nondisrutpive shots, taken from the jet validation set"
   ]
  },
  {
   "cell_type": "code",
   "execution_count": 16,
   "metadata": {
    "scrolled": false
   },
   "outputs": [
    {
     "name": "stdout",
     "output_type": "stream",
     "text": [
      "Found 5 disruptions out of 73 shots.\n"
     ]
    }
   ],
   "source": [
    "disruptive_files = []\n",
    "disruptive_shots = []\n",
    "\n",
    "non_disruptive_files = []\n",
    "non_disruptive_shots = []\n",
    "\n",
    "max_n = 5\n",
    "\n",
    "counter=0\n",
    "for shot in shotlist_val:\n",
    "    if len(disruptive_files)>max_n-1:\n",
    "        break\n",
    "        \n",
    "    counter+=1\n",
    "    clear_output(wait=True)\n",
    "    \n",
    "    if(shot.valid and shot.machine==jet):\n",
    "        if shot.is_disruptive:\n",
    "            file = np.load(shots_dir+str(shot.number)+'.npz', allow_pickle=True)\n",
    "            disruptive_files.append(file)\n",
    "            disruptive_shots.append(shot)\n",
    "        elif(len(non_disruptive_files)>max_n+1):\n",
    "            file = np.load(shots_dir+str(shot.number)+'.npz', allow_pickle=True)\n",
    "            non_disruptive_files.append(file)\n",
    "            non_disruptive_shots.append(shot)\n",
    "        \n",
    "    print('Found',len(disruptive_files), 'disruptions out of', counter, 'shots.')"
   ]
  },
  {
   "cell_type": "code",
   "execution_count": 26,
   "metadata": {},
   "outputs": [],
   "source": [
    "index = 1\n",
    "file = disruptive_files[index]\n",
    "shot = disruptive_shots[index]"
   ]
  },
  {
   "cell_type": "code",
   "execution_count": 27,
   "metadata": {},
   "outputs": [
    {
     "data": {
      "text/plain": [
       "{'_files': ['valid.npy', 'is_disruptive.npy', 'signals_dict.npy', 'ttd.npy'],\n",
       " 'files': ['valid', 'is_disruptive', 'signals_dict', 'ttd'],\n",
       " 'allow_pickle': True,\n",
       " 'pickle_kwargs': {'encoding': 'ASCII', 'fix_imports': True},\n",
       " 'zip': <zipfile.ZipFile file=<_io.BufferedReader name='/tigress/wvdp/processed_shots/signal_group_3236450206765786377241194018831785328/76672.npz'> mode='r'>,\n",
       " 'f': <numpy.lib.npyio.BagObj at 0x2b88960f8588>,\n",
       " 'fid': <_io.BufferedReader name='/tigress/wvdp/processed_shots/signal_group_3236450206765786377241194018831785328/76672.npz'>}"
      ]
     },
     "execution_count": 27,
     "metadata": {},
     "output_type": "execute_result"
    }
   ],
   "source": [
    "vars(file)"
   ]
  },
  {
   "cell_type": "code",
   "execution_count": 33,
   "metadata": {},
   "outputs": [],
   "source": [
    "#pprint(file.f.signals_dict)"
   ]
  },
  {
   "cell_type": "code",
   "execution_count": 30,
   "metadata": {},
   "outputs": [],
   "source": [
    "signals_dict = file['signals_dict'].item(0)"
   ]
  },
  {
   "cell_type": "code",
   "execution_count": 31,
   "metadata": {},
   "outputs": [],
   "source": [
    "# signals_dict['Normalized Beta']\n",
    "# Where is the profile information??"
   ]
  },
  {
   "cell_type": "code",
   "execution_count": 32,
   "metadata": {
    "scrolled": false
   },
   "outputs": [
    {
     "data": {
      "image/png": "[encoded data removed]",
      "text/plain": [
       "<matplotlib.figure.Figure at 0x2b8899269358>"
      ]
     },
     "metadata": {
      "needs_background": "light"
     },
     "output_type": "display_data"
    }
   ],
   "source": [
    "fig, ax_grid = plt.subplots(nrows=3, ncols=4, figsize=(20,10))\n",
    "ax = ax_grid.flatten()\n",
    "\n",
    "ax[0].plot(file.f.ttd)\n",
    "ax[0].set_ylabel('Time to disruption')\n",
    "ax[0].set_title('Time to disruption')\n",
    "ax[0].set_xlabel('Array Index')\n",
    "\n",
    "for i,(k,v) in enumerate(signals_dict.items()):\n",
    "    ax[i+1].plot(file.f.ttd,v, '.', markersize=2)\n",
    "    ax[i+1].set_ylabel(k)\n",
    "    ax[i+1].set_xlabel('Time to disruption [s]')\n",
    "    if(shot.is_disruptive):\n",
    "        # t_disrupt is in miliseconds!\n",
    "        ax[i+1].axvline(x=shot.t_disrupt/1000, color='r', alpha=0.3)\n",
    "    ax[i+1].set_title(k)\n",
    "\n",
    "if shot.is_disruptive:\n",
    "    title='Shot {0} ({1}), disruption time: {2:0.1f}ms'.format(shot.number, shot.machine.name.upper(), shot.t_disrupt)\n",
    "    \n",
    "else:\n",
    "    title='Shot {0} ({1}), non-disruptive'.format(shot.number, shot.machine)\n",
    "fig.suptitle(title, fontsize=16)\n",
    "fig.tight_layout()\n",
    "fig.subplots_adjust(top=0.9)\n",
    "fig.savefig(outdir+'{}{}.pdf'.format(shot.machine, shot.number))"
   ]
  },
  {
   "cell_type": "code",
   "execution_count": null,
   "metadata": {},
   "outputs": [],
   "source": []
  }
 ],
 "metadata": {
  "kernelspec": {
   "display_name": "Python 3",
   "language": "python",
   "name": "python3"
  },
  "language_info": {
   "codemirror_mode": {
    "name": "ipython",
    "version": 3
   },
   "file_extension": ".py",
   "mimetype": "text/x-python",
   "name": "python",
   "nbconvert_exporter": "python",
   "pygments_lexer": "ipython3",
   "version": "3.6.9"
  }
 },
 "nbformat": 4,
 "nbformat_minor": 2
}
