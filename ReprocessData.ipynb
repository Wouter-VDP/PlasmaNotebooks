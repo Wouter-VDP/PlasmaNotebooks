{
 "cells": [
  {
   "cell_type": "code",
   "execution_count": 1,
   "metadata": {},
   "outputs": [],
   "source": [
    "import numpy as np\n",
    "import pandas as pd\n",
    "import time\n",
    "import glob\n",
    "import os\n",
    "from IPython.display import clear_output\n",
    "from numpy.fft import rfft, irfft, rfftfreq\n",
    "import plasma"
   ]
  },
  {
   "cell_type": "code",
   "execution_count": 2,
   "metadata": {},
   "outputs": [],
   "source": [
    "indir = '/tigress/wvdp/processed_shots/'\n",
    "outdir = '/tigress/wvdp/processed_modified_shots/'\n",
    "\n",
    "signal_group = \"signal_group_3236450206765786377241194018831785328\"\n",
    "signals_to_modify = [\"Locked mode amplitude\"]\n",
    "# Fraction of noise added to the original signal, 0 means keep the original and is useless\n",
    "noise_amp = [-1, -0.5, 0.5, 1.0, 2.0]\n",
    "noise_amp_labs = ['denoised', 'reduced', 'addedhalf', 'double', 'triple']\n",
    "\n",
    "# Make the folders for this signal group and the signals we are modifying\n",
    "directory = outdir+signal_group\n",
    "if not os.path.exists(directory):\n",
    "    os.makedirs(directory)\n",
    "    \n",
    "for sig in signals_to_modify:  \n",
    "    directory += '/'+sig.replace(\" \", \"\")\n",
    "    if not os.path.exists(directory):\n",
    "        os.makedirs(directory)\n",
    "        \n",
    "    for noise_amp_lab in noise_amp_labs:\n",
    "        directory_amp = directory + \"/\"+str(noise_amp_lab)\n",
    "        if not os.path.exists(directory_amp):\n",
    "            os.makedirs(directory_amp)"
   ]
  },
  {
   "cell_type": "code",
   "execution_count": 3,
   "metadata": {},
   "outputs": [],
   "source": [
    "fft_params = {'pad_width': 500,\n",
    "              'pad_type': 'symmetric',\n",
    "              'pad_reflect': 'odd',\n",
    "              'filter_max_hz': 5,\n",
    "              'time_step': 1e-3,\n",
    "              'noise_clip_percentiles': [5,95]}"
   ]
  },
  {
   "cell_type": "code",
   "execution_count": 4,
   "metadata": {},
   "outputs": [
    {
     "name": "stdout",
     "output_type": "stream",
     "text": [
      "5524\n"
     ]
    }
   ],
   "source": [
    "shots_dir = indir+signal_group\n",
    "all_files = glob.glob(shots_dir+'/*.npz')\n",
    "num_total = len(all_files)\n",
    "print(num_total)"
   ]
  },
  {
   "cell_type": "code",
   "execution_count": 5,
   "metadata": {},
   "outputs": [],
   "source": [
    "def calculate_noise(sig, params):\n",
    "    sig_odd = len(sig)%2==1\n",
    "    if sig_odd:\n",
    "        sig = np.insert(sig,0,sig[0])\n",
    "    padded_sig = np.pad(sig, \n",
    "                        params['pad_width'], \n",
    "                        params['pad_type'], \n",
    "                        reflect_type=params['pad_reflect'])\n",
    "    \n",
    "    # Determine the filter size:\n",
    "    freq_padded = rfftfreq(len(padded_sig), d=params['time_step'])\n",
    "    filter_size = np.argmax(freq_padded>params['filter_max_hz'])\n",
    "    print(filter_size)\n",
    "    fftsig = rfft(padded_sig)\n",
    "    fftsig_noise = np.zeros(len(fftsig), dtype='complex64')\n",
    "    fftsig_noise[filter_size:] = fftsig[filter_size:]\n",
    "    ifftsig_noise = irfft(fftsig_noise)\n",
    "    noise = ifftsig_noise[params['pad_width']:-params['pad_width']]\n",
    "    lower, upper = np.percentile(noise,params['noise_clip_percentiles'])\n",
    "    noise_clip = np.clip(noise,lower,upper)\n",
    "    if sig_odd:\n",
    "        noise_clip = noise_clip[1:]\n",
    "    return noise_clip\n",
    "\n",
    "def write_npz(original_file, sig_object, sig_mod, shot_nr, amp_lab):\n",
    "    file_name = outdir+signal_group+'/'+sig_object.description.replace(\" \", \"\")+'/'+amp_lab+'/'+shot_nr\n",
    "    if not os.path.exists(file_name):\n",
    "        old_sig = original_file[\"signals_dict\"].item(0)[sig_object].copy()\n",
    "        original_file[\"signals_dict\"].item(0)[sig_object]=sig_mod\n",
    "        new_sig = original_file[\"signals_dict\"].item(0)[sig_object].copy()\n",
    "        np.savez(file_name, **original_file)\n",
    "    else:\n",
    "        print('File already existed ', sig_object.description, shot_nr, amp_lab)\n",
    "\n",
    "def find_sig_index(fname, signals_to_modify):\n",
    "    file = np.load(fname, allow_pickle=True)\n",
    "    signals_dict = list(file.f.signals_dict.item(0).items())\n",
    "    sig_names = [n[0].description for n in signals_dict]\n",
    "    sig_indexes = [sig_names.index(s) for s in signals_to_modify]\n",
    "    sig_objects = [ list(file[\"signals_dict\"].item(0).keys())[i] for i in sig_indexes]\n",
    "    return sig_indexes, sig_objects"
   ]
  },
  {
   "cell_type": "code",
   "execution_count": 6,
   "metadata": {},
   "outputs": [
    {
     "name": "stdout",
     "output_type": "stream",
     "text": [
      "all signals (determines which signals are downloaded and preprocessed):\n",
      "dict_values([q95 safety factor, internal inductance, plasma current, Normalized Beta, stored energy, Locked mode amplitude, Plasma density, Radiated Power Core, Radiated Power Edge, Radiated Power, Input Power (beam for d3d), Input Beam Torque, stored energy time derivative, plasma current direction, plasma current target, plasma current error, Electron temperature profile, Electron density profile])\n",
      "[4] [Locked mode amplitude]\n"
     ]
    }
   ],
   "source": [
    "signals_index_to_modify, signals_objects_to_modify = find_sig_index(all_files[0], signals_to_modify)\n",
    "print(signals_index_to_modify, signals_objects_to_modify)"
   ]
  },
  {
   "cell_type": "code",
   "execution_count": 7,
   "metadata": {
    "scrolled": false
   },
   "outputs": [
    {
     "name": "stdout",
     "output_type": "stream",
     "text": [
      "Shots:\t 5523 / 5524\n",
      "Time passed: 459.5s\n"
     ]
    }
   ],
   "source": [
    "start = time.time()\n",
    "\n",
    "for i,shot in enumerate(all_files):\n",
    "    file = dict(np.load(shot, allow_pickle=True))\n",
    "    if not file['valid']:\n",
    "        continue\n",
    "    signals_dict = file[\"signals_dict\"].item(0)\n",
    "\n",
    "    for sig_object in signals_objects_to_modify:\n",
    "        sig = signals_dict[sig_object].flatten()\n",
    "        noise = calculate_noise(sig, fft_params)\n",
    "        for amp, amp_lab in zip(noise_amp, noise_amp_labs):\n",
    "            sig_mod = sig+amp*noise\n",
    "            sig_mod = np.reshape(sig_mod, signals_dict[sig_object].shape)\n",
    "            shot_nr = shot.split('/')[-1]\n",
    "            write_npz(file, sig_object, sig_mod, shot_nr, amp_lab)\n",
    "            \n",
    "    clear_output(wait=True)\n",
    "    print('Shots:\\t',i, '/',num_total)\n",
    "    \n",
    "end = time.time()\n",
    "print('Time passed: {:.1f}s'.format(end - start))"
   ]
  }
 ],
 "metadata": {
  "kernelspec": {
   "display_name": "Python 3",
   "language": "python",
   "name": "python3"
  },
  "language_info": {
   "codemirror_mode": {
    "name": "ipython",
    "version": 3
   },
   "file_extension": ".py",
   "mimetype": "text/x-python",
   "name": "python",
   "nbconvert_exporter": "python",
   "pygments_lexer": "ipython3",
   "version": "3.6.9"
  }
 },
 "nbformat": 4,
 "nbformat_minor": 2
}
